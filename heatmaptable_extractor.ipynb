{
 "cells": [
  {
   "cell_type": "code",
   "execution_count": 18,
   "source": [
    "import os\r\n",
    "import camelot\r\n",
    "import pandas as pd\r\n"
   ],
   "outputs": [],
   "metadata": {}
  },
  {
   "cell_type": "code",
   "execution_count": 19,
   "source": [
    "file_input = 'origin_files/082521.pdf'\r\n",
    "pdf_file = camelot.read_pdf(file_input, pages='1-end', flavor='stream')\r\n"
   ],
   "outputs": [],
   "metadata": {}
  },
  {
   "cell_type": "code",
   "execution_count": 3,
   "source": [
    "type(pdf_file)"
   ],
   "outputs": [
    {
     "output_type": "execute_result",
     "data": {
      "text/plain": [
       "camelot.core.TableList"
      ]
     },
     "metadata": {},
     "execution_count": 3
    }
   ],
   "metadata": {}
  },
  {
   "cell_type": "code",
   "execution_count": 4,
   "source": [
    "pdf_file"
   ],
   "outputs": [
    {
     "output_type": "execute_result",
     "data": {
      "text/plain": [
       "<TableList n=5>"
      ]
     },
     "metadata": {},
     "execution_count": 4
    }
   ],
   "metadata": {}
  },
  {
   "cell_type": "code",
   "execution_count": 5,
   "source": [
    "pdf_file[0]"
   ],
   "outputs": [
    {
     "output_type": "execute_result",
     "data": {
      "text/plain": [
       "<Table shape=(76, 14)>"
      ]
     },
     "metadata": {},
     "execution_count": 5
    }
   ],
   "metadata": {}
  },
  {
   "cell_type": "code",
   "execution_count": 6,
   "source": [
    "first_table = pdf_file[0]\r\n",
    "first_table.df"
   ],
   "outputs": [
    {
     "output_type": "execute_result",
     "data": {
      "text/html": [
       "<div>\n",
       "<style scoped>\n",
       "    .dataframe tbody tr th:only-of-type {\n",
       "        vertical-align: middle;\n",
       "    }\n",
       "\n",
       "    .dataframe tbody tr th {\n",
       "        vertical-align: top;\n",
       "    }\n",
       "\n",
       "    .dataframe thead th {\n",
       "        text-align: right;\n",
       "    }\n",
       "</style>\n",
       "<table border=\"1\" class=\"dataframe\">\n",
       "  <thead>\n",
       "    <tr style=\"text-align: right;\">\n",
       "      <th></th>\n",
       "      <th>0</th>\n",
       "      <th>1</th>\n",
       "      <th>2</th>\n",
       "      <th>3</th>\n",
       "      <th>4</th>\n",
       "      <th>5</th>\n",
       "      <th>6</th>\n",
       "      <th>7</th>\n",
       "      <th>8</th>\n",
       "      <th>9</th>\n",
       "      <th>10</th>\n",
       "      <th>11</th>\n",
       "      <th>12</th>\n",
       "      <th>13</th>\n",
       "    </tr>\n",
       "  </thead>\n",
       "  <tbody>\n",
       "    <tr>\n",
       "      <th>0</th>\n",
       "      <td></td>\n",
       "      <td></td>\n",
       "      <td>GCV1</td>\n",
       "      <td></td>\n",
       "      <td></td>\n",
       "      <td></td>\n",
       "      <td></td>\n",
       "      <td>GCZ1</td>\n",
       "      <td></td>\n",
       "      <td></td>\n",
       "      <td></td>\n",
       "      <td>GCG2</td>\n",
       "      <td></td>\n",
       "      <td></td>\n",
       "    </tr>\n",
       "    <tr>\n",
       "      <th>1</th>\n",
       "      <td></td>\n",
       "      <td></td>\n",
       "      <td>63 DTE</td>\n",
       "      <td></td>\n",
       "      <td></td>\n",
       "      <td></td>\n",
       "      <td></td>\n",
       "      <td>126 DTE</td>\n",
       "      <td></td>\n",
       "      <td></td>\n",
       "      <td></td>\n",
       "      <td>183 DTE</td>\n",
       "      <td></td>\n",
       "      <td></td>\n",
       "    </tr>\n",
       "    <tr>\n",
       "      <th>2</th>\n",
       "      <td></td>\n",
       "      <td></td>\n",
       "      <td>1785.3</td>\n",
       "      <td></td>\n",
       "      <td></td>\n",
       "      <td></td>\n",
       "      <td></td>\n",
       "      <td>1788.6</td>\n",
       "      <td></td>\n",
       "      <td></td>\n",
       "      <td></td>\n",
       "      <td>1790.6</td>\n",
       "      <td></td>\n",
       "      <td></td>\n",
       "    </tr>\n",
       "    <tr>\n",
       "      <th>3</th>\n",
       "      <td></td>\n",
       "      <td>OGU1</td>\n",
       "      <td></td>\n",
       "      <td>OGV1</td>\n",
       "      <td></td>\n",
       "      <td>OGX1</td>\n",
       "      <td></td>\n",
       "      <td>OGZ1</td>\n",
       "      <td></td>\n",
       "      <td>OGF2</td>\n",
       "      <td></td>\n",
       "      <td>OGG2</td>\n",
       "      <td></td>\n",
       "      <td></td>\n",
       "    </tr>\n",
       "    <tr>\n",
       "      <th>4</th>\n",
       "      <td>STRIKES</td>\n",
       "      <td>0 DTE</td>\n",
       "      <td></td>\n",
       "      <td>32 DTE</td>\n",
       "      <td></td>\n",
       "      <td>61 DTE</td>\n",
       "      <td></td>\n",
       "      <td>89 DTE</td>\n",
       "      <td></td>\n",
       "      <td></td>\n",
       "      <td>124 DTE</td>\n",
       "      <td></td>\n",
       "      <td>153 DTE</td>\n",
       "      <td>STRIKES</td>\n",
       "    </tr>\n",
       "    <tr>\n",
       "      <th>...</th>\n",
       "      <td>...</td>\n",
       "      <td>...</td>\n",
       "      <td>...</td>\n",
       "      <td>...</td>\n",
       "      <td>...</td>\n",
       "      <td>...</td>\n",
       "      <td>...</td>\n",
       "      <td>...</td>\n",
       "      <td>...</td>\n",
       "      <td>...</td>\n",
       "      <td>...</td>\n",
       "      <td>...</td>\n",
       "      <td>...</td>\n",
       "      <td>...</td>\n",
       "    </tr>\n",
       "    <tr>\n",
       "      <th>71</th>\n",
       "      <td>1265</td>\n",
       "      <td></td>\n",
       "      <td></td>\n",
       "      <td></td>\n",
       "      <td></td>\n",
       "      <td></td>\n",
       "      <td></td>\n",
       "      <td></td>\n",
       "      <td>31</td>\n",
       "      <td></td>\n",
       "      <td></td>\n",
       "      <td></td>\n",
       "      <td></td>\n",
       "      <td>1265</td>\n",
       "    </tr>\n",
       "    <tr>\n",
       "      <th>72</th>\n",
       "      <td></td>\n",
       "      <td>CALL</td>\n",
       "      <td>PUT</td>\n",
       "      <td>CALL</td>\n",
       "      <td>PUT</td>\n",
       "      <td>CALL</td>\n",
       "      <td>PUT</td>\n",
       "      <td>CALL</td>\n",
       "      <td>PUT</td>\n",
       "      <td>CALL</td>\n",
       "      <td>PUT</td>\n",
       "      <td>CALL</td>\n",
       "      <td>PUT</td>\n",
       "      <td></td>\n",
       "    </tr>\n",
       "    <tr>\n",
       "      <th>73</th>\n",
       "      <td>STRIKES</td>\n",
       "      <td></td>\n",
       "      <td></td>\n",
       "      <td></td>\n",
       "      <td></td>\n",
       "      <td></td>\n",
       "      <td></td>\n",
       "      <td></td>\n",
       "      <td></td>\n",
       "      <td></td>\n",
       "      <td></td>\n",
       "      <td></td>\n",
       "      <td></td>\n",
       "      <td>STRIKES</td>\n",
       "    </tr>\n",
       "    <tr>\n",
       "      <th>74</th>\n",
       "      <td></td>\n",
       "      <td>OGU1</td>\n",
       "      <td></td>\n",
       "      <td>OGV1</td>\n",
       "      <td></td>\n",
       "      <td>OGX1</td>\n",
       "      <td></td>\n",
       "      <td>OGZ1</td>\n",
       "      <td></td>\n",
       "      <td>OGF2</td>\n",
       "      <td></td>\n",
       "      <td>OGG2</td>\n",
       "      <td></td>\n",
       "      <td></td>\n",
       "    </tr>\n",
       "    <tr>\n",
       "      <th>75</th>\n",
       "      <td></td>\n",
       "      <td>0 DTE</td>\n",
       "      <td></td>\n",
       "      <td>32 DTE</td>\n",
       "      <td></td>\n",
       "      <td>61 DTE</td>\n",
       "      <td></td>\n",
       "      <td>89 DTE</td>\n",
       "      <td></td>\n",
       "      <td></td>\n",
       "      <td>124 DTE</td>\n",
       "      <td></td>\n",
       "      <td>153 DTE</td>\n",
       "      <td></td>\n",
       "    </tr>\n",
       "  </tbody>\n",
       "</table>\n",
       "<p>76 rows × 14 columns</p>\n",
       "</div>"
      ],
      "text/plain": [
       "         0      1       2       3    4       5    6        7    8     9   \\\n",
       "0                     GCV1                               GCZ1              \n",
       "1                   63 DTE                            126 DTE              \n",
       "2                   1785.3                             1788.6              \n",
       "3             OGU1            OGV1         OGX1          OGZ1       OGF2   \n",
       "4   STRIKES  0 DTE          32 DTE       61 DTE        89 DTE              \n",
       "..      ...    ...     ...     ...  ...     ...  ...      ...  ...   ...   \n",
       "71     1265                                                     31         \n",
       "72            CALL     PUT    CALL  PUT    CALL  PUT     CALL  PUT  CALL   \n",
       "73  STRIKES                                                                \n",
       "74            OGU1            OGV1         OGX1          OGZ1       OGF2   \n",
       "75           0 DTE          32 DTE       61 DTE        89 DTE              \n",
       "\n",
       "         10       11       12       13  \n",
       "0               GCG2                    \n",
       "1            183 DTE                    \n",
       "2             1790.6                    \n",
       "3               OGG2                    \n",
       "4   124 DTE           153 DTE  STRIKES  \n",
       "..      ...      ...      ...      ...  \n",
       "71                                1265  \n",
       "72      PUT     CALL      PUT           \n",
       "73                             STRIKES  \n",
       "74              OGG2                    \n",
       "75  124 DTE           153 DTE           \n",
       "\n",
       "[76 rows x 14 columns]"
      ]
     },
     "metadata": {},
     "execution_count": 6
    }
   ],
   "metadata": {}
  },
  {
   "cell_type": "code",
   "execution_count": 8,
   "source": [
    "#first_table.to_excel(\"final.xlsx\", index =False)"
   ],
   "outputs": [],
   "metadata": {}
  },
  {
   "cell_type": "code",
   "execution_count": 7,
   "source": [
    "\r\n",
    "\r\n",
    "file_basename = os.path.basename(file_input)\r\n",
    "file_basename"
   ],
   "outputs": [
    {
     "output_type": "execute_result",
     "data": {
      "text/plain": [
       "'082521.pdf'"
      ]
     },
     "metadata": {},
     "execution_count": 7
    }
   ],
   "metadata": {}
  },
  {
   "cell_type": "code",
   "execution_count": 8,
   "source": [
    "basename_without_ext = os.path.splitext(os.path.basename(file_input))[0]\r\n",
    "basename_without_ext"
   ],
   "outputs": [
    {
     "output_type": "execute_result",
     "data": {
      "text/plain": [
       "'082521'"
      ]
     },
     "metadata": {},
     "execution_count": 8
    }
   ],
   "metadata": {}
  },
  {
   "cell_type": "code",
   "execution_count": 9,
   "source": [
    "\r\n",
    "filename_output = 'converted_'+ basename_without_ext + '.xlsx'\r\n",
    "first_table.to_excel(filename_output, index = False)"
   ],
   "outputs": [],
   "metadata": {}
  }
 ],
 "metadata": {
  "orig_nbformat": 4,
  "language_info": {
   "name": "python",
   "version": "3.7.11",
   "mimetype": "text/x-python",
   "codemirror_mode": {
    "name": "ipython",
    "version": 3
   },
   "pygments_lexer": "ipython3",
   "nbconvert_exporter": "python",
   "file_extension": ".py"
  },
  "kernelspec": {
   "name": "python3",
   "display_name": "Python 3.7.11 64-bit ('camelot': conda)"
  },
  "interpreter": {
   "hash": "5e8af13f60af794ddda8eaf3056aa019971ca3ff3d079f6de3d59bda989f373e"
  }
 },
 "nbformat": 4,
 "nbformat_minor": 2
}